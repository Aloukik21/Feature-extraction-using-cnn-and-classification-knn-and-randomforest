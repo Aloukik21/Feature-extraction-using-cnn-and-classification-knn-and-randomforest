{
 "cells": [
  {
   "cell_type": "markdown",
   "metadata": {},
   "source": [
    "# Assignment_3 Smart health\n",
    "# Name: Aloukik Aditya\n",
    "# Student_ID: 1115290"
   ]
  },
  {
   "cell_type": "code",
   "execution_count": 29,
   "metadata": {},
   "outputs": [
    {
     "name": "stdout",
     "output_type": "stream",
     "text": [
      "tensorflow\n"
     ]
    }
   ],
   "source": [
    "from __future__ import print_function\n",
    "import tensorflow.compat.v1 as tf\n",
    "from tensorflow.keras.models import Model \n",
    "import tensorflow.keras\n",
    "import pandas as pd\n",
    "from tensorflow.keras.callbacks import TensorBoard\n",
    "#from tensorflow import keras\n",
    "from tensorflow.keras.datasets import cifar100\n",
    "from tensorflow.keras.models import Sequential\n",
    "from tensorflow.keras.layers import Dense, Dropout, Activation, Flatten, Input\n",
    "from tensorflow.keras.layers import Conv2D, MaxPooling2D, ZeroPadding2D\n",
    "from tensorflow.keras.optimizers import SGD\n",
    "from tensorflow.keras.regularizers import l2\n",
    "from tensorflow.keras.callbacks import Callback, LearningRateScheduler, TensorBoard, ModelCheckpoint\n",
    "from tensorflow.keras.preprocessing.image import ImageDataGenerator\n",
    "from tensorflow.keras.utils import  to_categorical\n",
    "from tensorflow.keras import backend as K\n",
    "import numpy as np\n",
    "import matplotlib\n",
    "import json\n",
    "from matplotlib import pyplot as plt\n",
    "\n",
    "from tensorflow.keras.optimizers import Adam, RMSprop\n",
    "from tensorflow.keras.callbacks import ModelCheckpoint\n",
    "from tensorflow.keras.models import load_model\n",
    "from tensorflow.keras.layers import Lambda, Conv2D, MaxPooling2D, Dropout, Dense, Flatten, Activation\n",
    "import sys\n",
    "import os\n",
    "#import cv2 \n",
    "from PIL import Image\n",
    "import numpy as np\n",
    "from skimage.transform import resize\n",
    "from skimage import data, io, filters\n",
    "from skimage.transform import rescale\n",
    "import time\n",
    "# from tensorflow.keras.layers.normalization import BatchNormalization\n",
    "from sklearn.model_selection import StratifiedShuffleSplit\n",
    "from keras.layers.normalization import BatchNormalization\n",
    "\n",
    "import keras\n",
    "from keras.models import load_model\n",
    "from keras.datasets import cifar10\n",
    "from keras.preprocessing.image import ImageDataGenerator\n",
    "from keras.models import Sequential\n",
    "from keras.layers import Dense, Dropout, Activation, Flatten\n",
    "from keras.layers import Conv2D, MaxPooling2D\n",
    "from keras.callbacks import EarlyStopping, ModelCheckpoint\n",
    "import os\n",
    "import pickle\n",
    "import numpy as np\n",
    "import os\n",
    "os.environ[\"KERAS_BACKEND\"] = \"tensorflow\"\n",
    "kerasBKED = os.environ[\"KERAS_BACKEND\"] \n",
    "print(kerasBKED)"
   ]
  },
  {
   "cell_type": "code",
   "execution_count": 30,
   "metadata": {},
   "outputs": [],
   "source": [
    "import glob#---------------------------------------------this helps in reading all the images\n",
    "Abdomen = glob.glob('DS_NN/DS/Abdomen_CT*.jpeg')\n",
    "Chest = glob.glob('DS_NN/DS/Chest_CT*.jpeg')\n",
    "Head = glob.glob('DS_NN/DS/Head_CT*.jpeg')"
   ]
  },
  {
   "cell_type": "code",
   "execution_count": 31,
   "metadata": {},
   "outputs": [
    {
     "name": "stdout",
     "output_type": "stream",
     "text": [
      "500\n",
      "500\n",
      "500\n"
     ]
    }
   ],
   "source": [
    "print(len(Abdomen))#------------------ checking the number of files of each class\n",
    "print(len(Chest))\n",
    "print(len(Head))\n"
   ]
  },
  {
   "cell_type": "markdown",
   "metadata": {},
   "source": [
    "## this section will create the training and testing sets (very important) ratio is 60:40"
   ]
  },
  {
   "cell_type": "code",
   "execution_count": 32,
   "metadata": {},
   "outputs": [],
   "source": [
    "data = []\n",
    "data.clear()\n",
    "labels = []\n",
    "labels.clear()\n",
    "num_classes = 3\n",
    "\n",
    "for i in Abdomen:   #------------------------------------------------------------------\n",
    "    image=tf.keras.preprocessing.image.load_img(i, color_mode='grayscale', #----------------- using grayscale image\n",
    "    target_size= (32,32))#--------------------------------------------------using dimension as 32 by 32\n",
    "    image=np.array(image)\n",
    "    data.append(image)\n",
    "    labels.append(0)#---------------------------------------now this the label for abdomen section which is zero\n",
    "for i in Chest:   \n",
    "    image=tf.keras.preprocessing.image.load_img(i, color_mode='grayscale', \n",
    "    target_size= (32,32))\n",
    "    image=np.array(image)\n",
    "    data.append(image)\n",
    "    labels.append(1)\n",
    "for i in Head:   \n",
    "    image=tf.keras.preprocessing.image.load_img(i, color_mode='grayscale', \n",
    "    target_size= (32,32))\n",
    "    image=np.array(image)\n",
    "    data.append(image)\n",
    "    labels.append(2)\n",
    "\n",
    "data = np.array(data)#----------------------- it contain all the images of abdomen, chest and head\n",
    "labels = np.array(labels)#-------------------------this contian all the labels\n",
    "\n",
    "from sklearn.model_selection import train_test_split\n",
    "X_train, X_test, ytrain, ytest = train_test_split(data, labels, test_size=0.4)#--------------it will randmoly split into training and testing"
   ]
  },
  {
   "cell_type": "code",
   "execution_count": null,
   "metadata": {},
   "outputs": [],
   "source": []
  },
  {
   "cell_type": "code",
   "execution_count": 33,
   "metadata": {},
   "outputs": [
    {
     "data": {
      "text/plain": [
       "(900, 32, 32)"
      ]
     },
     "execution_count": 33,
     "metadata": {},
     "output_type": "execute_result"
    }
   ],
   "source": [
    "X_train.shape#-- checking dimension, but our model wont accept this type of dimension"
   ]
  },
  {
   "cell_type": "code",
   "execution_count": 34,
   "metadata": {},
   "outputs": [],
   "source": [
    "X_train = np.reshape(X_train,(-1, 32, 32 , 1))#---------so reshaping model\n",
    "X_test = np.reshape(X_test,(-1, 32, 32 , 1))"
   ]
  },
  {
   "cell_type": "code",
   "execution_count": 35,
   "metadata": {},
   "outputs": [
    {
     "data": {
      "text/plain": [
       "array([1, 1, 2, 0, 1, 0, 1, 0, 0, 2, 1, 0, 2, 2, 1, 1, 1, 0, 1, 2, 0, 1,\n",
       "       1, 1, 0, 1, 0, 1, 0, 2, 2, 1, 0, 2, 1, 2, 1, 1, 1, 0, 1, 1, 0, 0,\n",
       "       1, 2, 0, 0, 2, 0, 1, 2, 1, 2, 0, 1, 0, 2, 2, 2, 0, 0, 0, 2, 0, 1,\n",
       "       0, 0, 0, 2, 2, 1, 2, 0, 0, 2, 0, 1, 2, 2, 1, 2, 2, 0, 1, 2, 0, 1,\n",
       "       2, 0, 0, 0, 1, 1, 1, 2, 2, 1, 0])"
      ]
     },
     "execution_count": 35,
     "metadata": {},
     "output_type": "execute_result"
    }
   ],
   "source": [
    "ytrain[1:100]"
   ]
  },
  {
   "cell_type": "code",
   "execution_count": 36,
   "metadata": {},
   "outputs": [
    {
     "data": {
      "text/plain": [
       "array([2, 1, 0, 1, 2, 2, 2, 2, 0, 2, 0, 1, 0, 1, 2, 1, 2, 1, 2, 1, 1, 2,\n",
       "       1, 2, 2, 1, 2, 2, 2, 1, 2, 1, 0, 2, 2, 2, 2, 0, 2, 1, 0, 1, 1, 0,\n",
       "       1, 2, 1, 0, 1, 1, 2, 0, 0, 0, 1, 1, 0, 1, 2, 0, 1, 2, 1, 0, 2, 2,\n",
       "       0, 1, 0, 1, 1, 1, 2, 0, 2, 0, 2, 0, 2, 2, 0, 2, 2, 1, 0, 2, 0, 2,\n",
       "       1, 0, 0, 0, 0, 0, 0, 1, 0, 1, 0])"
      ]
     },
     "execution_count": 36,
     "metadata": {},
     "output_type": "execute_result"
    }
   ],
   "source": [
    "ytest[1:100]"
   ]
  },
  {
   "cell_type": "code",
   "execution_count": 37,
   "metadata": {},
   "outputs": [
    {
     "data": {
      "text/plain": [
       "(900, 32, 32, 1)"
      ]
     },
     "execution_count": 37,
     "metadata": {},
     "output_type": "execute_result"
    }
   ],
   "source": [
    "X_train.shape#-----------------updated shape"
   ]
  },
  {
   "cell_type": "code",
   "execution_count": 38,
   "metadata": {},
   "outputs": [],
   "source": [
    "ytrain_encoded = keras.utils.to_categorical(ytrain, num_classes)#-----------------------preprocessing data here\n",
    "ytest_encoded = keras.utils.to_categorical(ytest, num_classes)\n",
    "\n",
    "X_train = X_train.astype(np.float32)#---------------------normalizaing the data\n",
    "X_test = X_test.astype(np.float32)\n",
    "X_train = X_train / 255\n",
    "X_test = X_test / 255"
   ]
  },
  {
   "cell_type": "code",
   "execution_count": 39,
   "metadata": {},
   "outputs": [
    {
     "data": {
      "text/plain": [
       "(900, 32, 32, 1)"
      ]
     },
     "execution_count": 39,
     "metadata": {},
     "output_type": "execute_result"
    }
   ],
   "source": [
    "X_train.shape"
   ]
  },
  {
   "cell_type": "markdown",
   "metadata": {},
   "source": [
    "## Convolution neural network starts here:"
   ]
  },
  {
   "cell_type": "code",
   "execution_count": 40,
   "metadata": {},
   "outputs": [],
   "source": [
    "featureLayer1=[Conv2D(64, (3, 3), padding='same',input_shape=X_train.shape[1:]),\n",
    "               Activation('relu'),\n",
    "               Conv2D(64, (3, 3), padding='same'),#-------------all the the cov layers attain features \n",
    "               Activation('relu'),\n",
    "               MaxPooling2D(pool_size=(2, 2)),\n",
    "               Dropout(0.25)]\n",
    "\n",
    "featureLayer2=[Conv2D(128, (3, 3), padding='same'),\n",
    "               Activation('relu'),\n",
    "               Conv2D(128, (3, 3), padding='same'),\n",
    "               Activation('relu'),\n",
    "               MaxPooling2D(pool_size=(2, 2)),\n",
    "               Dropout(0.25)]\n",
    "\n",
    "featureLayer3=[Conv2D(256, (3, 3), padding='same'),\n",
    "               Activation('relu'),\n",
    "               Conv2D(256, (3, 3), padding='same'),\n",
    "               Activation('relu'),\n",
    "               Conv2D(256, (3, 3), padding='same'),\n",
    "               Activation('relu'),\n",
    "               MaxPooling2D(pool_size=(2, 2)),\n",
    "               Dropout(0.25)]\n",
    "\n",
    "fullConnLayer=[Flatten(),\n",
    "               Dense(1024),\n",
    "               Activation('relu'),\n",
    "               Dropout(0.5),\n",
    "               Dense(1024),\n",
    "               Activation('relu'),\n",
    "               Dropout(0.5)]\n",
    "\n",
    "classificationLayer=[Dense(num_classes),\n",
    "                     Activation('softmax')]\n",
    "\n",
    "model = Sequential(featureLayer1 + featureLayer2 + featureLayer3 + fullConnLayer + classificationLayer)"
   ]
  },
  {
   "cell_type": "code",
   "execution_count": null,
   "metadata": {},
   "outputs": [],
   "source": []
  },
  {
   "cell_type": "code",
   "execution_count": 41,
   "metadata": {},
   "outputs": [
    {
     "name": "stdout",
     "output_type": "stream",
     "text": [
      "x_train shape: (900, 32, 32, 1)\n",
      "900 train samples\n",
      "600 test samples\n"
     ]
    }
   ],
   "source": [
    "\n",
    "print('x_train shape:', X_train.shape)\n",
    "print(X_train.shape[0], 'train samples')#----------checking dimentions\n",
    "print(X_test.shape[0], 'test samples')"
   ]
  },
  {
   "cell_type": "code",
   "execution_count": 42,
   "metadata": {},
   "outputs": [],
   "source": [
    "\n",
    "opt = opt = keras.optimizers.Adam()\n",
    "\n",
    "model.compile(loss='categorical_crossentropy',\n",
    "              optimizer=opt,#---------------------------------compiling model here\n",
    "              metrics=['accuracy'])\n",
    "\n",
    "es_cb = EarlyStopping(monitor='val_loss', patience=10, verbose=1, mode='auto')"
   ]
  },
  {
   "cell_type": "code",
   "execution_count": 43,
   "metadata": {},
   "outputs": [
    {
     "name": "stdout",
     "output_type": "stream",
     "text": [
      "Epoch 1/10\n",
      "29/29 [==============================] - 9s 311ms/step - loss: 1.1011 - accuracy: 0.3444 - val_loss: 1.0849 - val_accuracy: 0.5667\n",
      "Epoch 2/10\n",
      "29/29 [==============================] - 9s 316ms/step - loss: 0.7051 - accuracy: 0.5722 - val_loss: 0.4885 - val_accuracy: 0.6667\n",
      "Epoch 3/10\n",
      "29/29 [==============================] - 9s 315ms/step - loss: 0.4877 - accuracy: 0.6678 - val_loss: 0.4585 - val_accuracy: 0.6833\n",
      "Epoch 4/10\n",
      "29/29 [==============================] - 9s 316ms/step - loss: 0.4827 - accuracy: 0.6467 - val_loss: 0.4584 - val_accuracy: 0.6667\n",
      "Epoch 5/10\n",
      "29/29 [==============================] - 9s 317ms/step - loss: 1.2211 - accuracy: 0.5067 - val_loss: 1.0999 - val_accuracy: 0.3333\n",
      "Epoch 6/10\n",
      "29/29 [==============================] - 9s 324ms/step - loss: 1.0234 - accuracy: 0.4267 - val_loss: 0.9312 - val_accuracy: 0.5217\n",
      "Epoch 7/10\n",
      "29/29 [==============================] - 9s 327ms/step - loss: 0.5110 - accuracy: 0.6789 - val_loss: 0.4275 - val_accuracy: 0.6667\n",
      "Epoch 8/10\n",
      "29/29 [==============================] - 9s 316ms/step - loss: 0.4516 - accuracy: 0.7533 - val_loss: 0.3327 - val_accuracy: 0.6717\n",
      "Epoch 9/10\n",
      "29/29 [==============================] - 10s 361ms/step - loss: 0.4017 - accuracy: 0.7989 - val_loss: 0.2827 - val_accuracy: 0.8100\n",
      "Epoch 10/10\n",
      "29/29 [==============================] - 10s 358ms/step - loss: 0.1699 - accuracy: 0.9244 - val_loss: 0.1628 - val_accuracy: 0.9917\n"
     ]
    }
   ],
   "source": [
    "batch_size = 32\n",
    "epochs = 10#----------------------------------------performance of the model can be increased if epochs are increased\n",
    "history = model.fit(X_train, ytrain_encoded,\n",
    "                    batch_size=batch_size,\n",
    "                    epochs=epochs,\n",
    "                    verbose=1,#-----------------------------------------------------starting model here\n",
    "                    validation_data=(X_test, ytest_encoded),\n",
    "                    callbacks= [es_cb],\n",
    "                    shuffle=True)"
   ]
  },
  {
   "cell_type": "code",
   "execution_count": 44,
   "metadata": {},
   "outputs": [
    {
     "name": "stdout",
     "output_type": "stream",
     "text": [
      "Test loss: 0.16279882192611694\n",
      "Test accuracy: 0.9916666746139526\n"
     ]
    }
   ],
   "source": [
    "score = model.evaluate(X_test, ytest_encoded, verbose=0)\n",
    "print('Test loss:', score[0])\n",
    "print('Test accuracy:', score[1])"
   ]
  },
  {
   "cell_type": "code",
   "execution_count": 17,
   "metadata": {},
   "outputs": [
    {
     "name": "stdout",
     "output_type": "stream",
     "text": [
      "0 <tensorflow.python.keras.layers.convolutional.Conv2D object at 0x0000019E5CB11550>\n",
      "1 <tensorflow.python.keras.layers.core.Activation object at 0x0000019E5CB38C50>\n",
      "2 <tensorflow.python.keras.layers.convolutional.Conv2D object at 0x0000019E5CB38DA0>\n",
      "3 <tensorflow.python.keras.layers.core.Activation object at 0x0000019E5DF56048>\n",
      "4 <tensorflow.python.keras.layers.pooling.MaxPooling2D object at 0x0000019E5DF56198>\n",
      "5 <tensorflow.python.keras.layers.core.Dropout object at 0x0000019E5DF56320>\n",
      "6 <tensorflow.python.keras.layers.convolutional.Conv2D object at 0x0000019E5DF564A8>\n",
      "7 <tensorflow.python.keras.layers.core.Activation object at 0x0000019E5DF56710>\n",
      "8 <tensorflow.python.keras.layers.convolutional.Conv2D object at 0x0000019E5DF56860>\n",
      "9 <tensorflow.python.keras.layers.core.Activation object at 0x0000019E5DF56AC8>\n",
      "10 <tensorflow.python.keras.layers.pooling.MaxPooling2D object at 0x0000019E5DF56C18>\n",
      "11 <tensorflow.python.keras.layers.core.Dropout object at 0x0000019E5DF56DA0>\n",
      "12 <tensorflow.python.keras.layers.convolutional.Conv2D object at 0x0000019E5DF56EB8>\n",
      "13 <tensorflow.python.keras.layers.core.Activation object at 0x0000019E5DF63160>\n",
      "14 <tensorflow.python.keras.layers.convolutional.Conv2D object at 0x0000019E5DF632B0>\n",
      "15 <tensorflow.python.keras.layers.core.Activation object at 0x0000019E5DF63518>\n",
      "16 <tensorflow.python.keras.layers.convolutional.Conv2D object at 0x0000019E5DF63668>\n",
      "17 <tensorflow.python.keras.layers.core.Activation object at 0x0000019E5DF638D0>\n",
      "18 <tensorflow.python.keras.layers.pooling.MaxPooling2D object at 0x0000019E5DF63A20>\n",
      "19 <tensorflow.python.keras.layers.core.Dropout object at 0x0000019E5DF63BA8>\n",
      "20 <tensorflow.python.keras.layers.core.Flatten object at 0x0000019E5DF56E80>\n",
      "21 <tensorflow.python.keras.layers.core.Dense object at 0x0000019E5DF63E10>\n",
      "22 <tensorflow.python.keras.layers.core.Activation object at 0x0000019E5DF6C0B8>\n",
      "23 <tensorflow.python.keras.layers.core.Dropout object at 0x0000019E5DF6C1D0>\n",
      "24 <tensorflow.python.keras.layers.core.Dense object at 0x0000019E5DF6C2E8>\n",
      "25 <tensorflow.python.keras.layers.core.Activation object at 0x0000019E5DF6C518>\n",
      "26 <tensorflow.python.keras.layers.core.Dropout object at 0x0000019E5DF6C630>\n",
      "27 <tensorflow.python.keras.layers.core.Dense object at 0x0000019E5DF63C88>\n",
      "28 <tensorflow.python.keras.layers.core.Activation object at 0x0000019E5DF6C9E8>\n"
     ]
    }
   ],
   "source": [
    "\n",
    "# Layers definitions\n",
    "from keras import backend as K#------------------------this will help to get all info of the layers which we habe in our model\n",
    "for l in range(len(model.layers)):\n",
    "    print(l, model.layers[l])"
   ]
  },
  {
   "cell_type": "code",
   "execution_count": 18,
   "metadata": {},
   "outputs": [],
   "source": [
    "inputs_1=model.layers[0].input#------------selecting initial layer\n",
    "outputs_1=model.layers[26].output#------------according to question selelcting intermediate layer\n"
   ]
  },
  {
   "cell_type": "code",
   "execution_count": null,
   "metadata": {},
   "outputs": [],
   "source": []
  },
  {
   "cell_type": "code",
   "execution_count": 19,
   "metadata": {},
   "outputs": [],
   "source": [
    "from keras.layers import Input\n",
    "# # feature extraction layer\n",
    "getFeature = K.function([inputs_1],\n",
    "                         [outputs_1])#----------------------------------getting features from this function"
   ]
  },
  {
   "cell_type": "code",
   "execution_count": 20,
   "metadata": {},
   "outputs": [],
   "source": [
    "extracted_features_train = getFeature([X_train[:900], 0])[0]#-------------- we need to change to feed into KNN and RF using k function\n",
    "extracted_features_test = getFeature([X_test[:600], 0])[0]\n"
   ]
  },
  {
   "cell_type": "code",
   "execution_count": 21,
   "metadata": {},
   "outputs": [],
   "source": [
    "train_labels = ytrain[:900]\n",
    "test_labels = ytest[:600]"
   ]
  },
  {
   "cell_type": "code",
   "execution_count": 22,
   "metadata": {},
   "outputs": [
    {
     "data": {
      "text/plain": [
       "array([0.        , 0.        , 0.18346983, ..., 0.        , 0.3027268 ,\n",
       "       0.        ], dtype=float32)"
      ]
     },
     "execution_count": 22,
     "metadata": {},
     "output_type": "execute_result"
    }
   ],
   "source": [
    "# output of getFeature function\n",
    "extracted_features_train[0]#-----------checking values"
   ]
  },
  {
   "cell_type": "code",
   "execution_count": 23,
   "metadata": {},
   "outputs": [
    {
     "name": "stdout",
     "output_type": "stream",
     "text": [
      "(900, 1024) (600, 1024) (900,) (600,)\n"
     ]
    }
   ],
   "source": [
    "print(extracted_features_train.shape, extracted_features_test.shape, train_labels.shape, test_labels.shape)#----------cheking dimentions"
   ]
  },
  {
   "cell_type": "markdown",
   "metadata": {},
   "source": [
    "## KNN starts below"
   ]
  },
  {
   "cell_type": "code",
   "execution_count": 24,
   "metadata": {},
   "outputs": [
    {
     "name": "stdout",
     "output_type": "stream",
     "text": [
      "Maximum accuracy:- 1.0 at K = 1\n"
     ]
    },
    {
     "data": {
      "image/png": "[encoded data removed]",
      "text/plain": [
       "<Figure size 720x432 with 1 Axes>"
      ]
     },
     "metadata": {
      "needs_background": "light"
     },
     "output_type": "display_data"
    }
   ],
   "source": [
    "#------------------------------------------------------K nearest neighbour starts here-----------------------------#####\n",
    "from multiprocessing import Queue\n",
    "from sklearn.neighbors import KNeighborsClassifier\n",
    "from sklearn.model_selection import GridSearchCV\n",
    "X_train = extracted_features_train\n",
    "y_train = train_labels\n",
    "X_test = extracted_features_test\n",
    "y_test = test_labels\n",
    "\n",
    "\n",
    "acc = []\n",
    "acc.clear()\n",
    "# Will take some time\n",
    "from sklearn import metrics\n",
    "for i in range(1,15):#---------------------------value of k = 1, 3 ,5, 7 included in this\n",
    "    KNN_model = KNeighborsClassifier(n_neighbors = i).fit(X_train,y_train)\n",
    "    knn_prediction = KNN_model.predict(X_test)\n",
    "    acc.append(metrics.accuracy_score(y_test, knn_prediction))\n",
    "    \n",
    "plt.figure(figsize=(10,6))#---------------------------------------used to plot graph as mentioned in question\n",
    "plt.plot(range(1,15),acc,color = 'blue',linestyle='dashed', \n",
    "         marker='o',markerfacecolor='red', markersize=10)\n",
    "plt.title('accuracy vs. K Value')\n",
    "plt.xlabel('K')\n",
    "plt.ylabel('Accuracy')\n",
    "print(\"Maximum accuracy:-\",max(acc),\"at K =\",acc.index(max(acc))+1)#------------- getting most optimal value of k and accuracy\n",
    "\n",
    "\n",
    "\n"
   ]
  },
  {
   "cell_type": "code",
   "execution_count": 25,
   "metadata": {},
   "outputs": [],
   "source": [
    "\n",
    "KNN_filename = '1115290_KNN.pkl'\n",
    "# Open the file to save as pkl file#------------------saving model for KNN\n",
    "saved = open(KNN_filename, 'wb')\n",
    "pickle.dump(KNN_model, saved)\n",
    "# Close the pickle instances\n",
    "saved.close()"
   ]
  },
  {
   "cell_type": "code",
   "execution_count": null,
   "metadata": {},
   "outputs": [],
   "source": []
  },
  {
   "cell_type": "markdown",
   "metadata": {},
   "source": [
    "## Random forest starts below\n"
   ]
  },
  {
   "cell_type": "code",
   "execution_count": 26,
   "metadata": {},
   "outputs": [
    {
     "data": {
      "text/plain": [
       "GridSearchCV(estimator=RandomForestClassifier(),\n",
       "             param_grid={'bootstrap': [True, False], 'max_features': [1, 3, 10],\n",
       "                         'n_estimators': [10, 20, 50]})"
      ]
     },
     "execution_count": 26,
     "metadata": {},
     "output_type": "execute_result"
    }
   ],
   "source": [
    "################_--------------------------------Random forest starts here------------------###################################\n",
    "from sklearn.ensemble import RandomForestClassifier\n",
    "from sklearn.model_selection import GridSearchCV\n",
    "\n",
    "parameters = {\n",
    "              \"max_features\": [1, 3, 10],\n",
    "              \"bootstrap\": [True, False],\n",
    "              \"n_estimators\": [10, 20, 50]}\n",
    "rclf = RandomForestClassifier()\n",
    "rgclf = GridSearchCV(rclf, param_grid=parameters)\n",
    "rgclf.fit(extracted_features_train, train_labels)"
   ]
  },
  {
   "cell_type": "code",
   "execution_count": 27,
   "metadata": {},
   "outputs": [
    {
     "data": {
      "text/plain": [
       "RandomForestClassifier(max_features=1, n_estimators=10)"
      ]
     },
     "execution_count": 27,
     "metadata": {},
     "output_type": "execute_result"
    }
   ],
   "source": [
    "\n",
    "rclf = rgclf.best_estimator_\n",
    "rclf.fit(extracted_features_train, train_labels)"
   ]
  },
  {
   "cell_type": "code",
   "execution_count": 28,
   "metadata": {
    "scrolled": false
   },
   "outputs": [
    {
     "name": "stdout",
     "output_type": "stream",
     "text": [
      "++++++++++++++Printing Confusion matrix below+++++++++++++++\n",
      "              precision    recall  f1-score   support\n",
      "\n",
      "           0       1.00      1.00      1.00       194\n",
      "           1       1.00      1.00      1.00       198\n",
      "           2       1.00      1.00      1.00       208\n",
      "\n",
      "    accuracy                           1.00       600\n",
      "   macro avg       1.00      1.00      1.00       600\n",
      "weighted avg       1.00      1.00      1.00       600\n",
      "\n",
      "Optimal parameteres  --------------> RandomForestClassifier(max_features=1, n_estimators=10)\n",
      "Accuracy: 1.0\n"
     ]
    }
   ],
   "source": [
    "\n",
    "predicted_RandomForest = rclf.predict(extracted_features_test)\n",
    "\n",
    "from sklearn.metrics import confusion_matrix, classification_report, accuracy_score#-----------confusion matrix and optimal paramerts are shwon below\n",
    "print(\"++++++++++++++Printing Confusion matrix below+++++++++++++++\")\n",
    "print(classification_report(test_labels, predicted_RandomForest))\n",
    "a = rgclf.best_estimator_\n",
    "print(\"Optimal parameteres  -------------->\"  , a)\n",
    "print(\"Accuracy: {0}\".format(accuracy_score(test_labels, predicted_RandomForest)))"
   ]
  },
  {
   "cell_type": "code",
   "execution_count": 29,
   "metadata": {},
   "outputs": [],
   "source": [
    "\n",
    "RF_filename = '1115290_RandomForest.pkl'#------------------------saving random forest pkl file\n",
    "# Open the file to save as pkl file\n",
    "saved = open(RF_filename, 'wb')\n",
    "pickle.dump(rclf, saved)\n",
    "# Close the pickle instances\n",
    "saved.close()"
   ]
  },
  {
   "cell_type": "code",
   "execution_count": 30,
   "metadata": {},
   "outputs": [],
   "source": [
    "#--------------------------LOading models here-----------------------------------------"
   ]
  },
  {
   "cell_type": "markdown",
   "metadata": {},
   "source": [
    "## Models can be loaded from below sections"
   ]
  },
  {
   "cell_type": "code",
   "execution_count": 31,
   "metadata": {},
   "outputs": [
    {
     "name": "stdout",
     "output_type": "stream",
     "text": [
      "Loaded KNN model::  KNeighborsClassifier(n_neighbors=14)\n"
     ]
    }
   ],
   "source": [
    "KNN_m = open(KNN_filename, 'rb')\n",
    "Knn_load = pickle.load(KNN_m)\n",
    "print (\"Loaded KNN model:: \", Knn_load)\n",
    "\n",
    "\n"
   ]
  },
  {
   "cell_type": "code",
   "execution_count": 32,
   "metadata": {},
   "outputs": [
    {
     "name": "stdout",
     "output_type": "stream",
     "text": [
      "Loaded RF model::  RandomForestClassifier(max_features=1, n_estimators=10)\n"
     ]
    }
   ],
   "source": [
    "RF_m = open(RF_filename, 'rb')\n",
    "RF_load = pickle.load(RF_m)\n",
    "print (\"Loaded RF model:: \", RF_load)\n",
    "\n",
    "\n",
    "\n",
    "\n"
   ]
  },
  {
   "cell_type": "code",
   "execution_count": null,
   "metadata": {},
   "outputs": [],
   "source": []
  },
  {
   "cell_type": "code",
   "execution_count": null,
   "metadata": {},
   "outputs": [],
   "source": []
  },
  {
   "cell_type": "code",
   "execution_count": null,
   "metadata": {},
   "outputs": [],
   "source": []
  },
  {
   "cell_type": "code",
   "execution_count": null,
   "metadata": {},
   "outputs": [],
   "source": []
  },
  {
   "cell_type": "code",
   "execution_count": null,
   "metadata": {},
   "outputs": [],
   "source": []
  },
  {
   "cell_type": "code",
   "execution_count": null,
   "metadata": {},
   "outputs": [],
   "source": []
  },
  {
   "cell_type": "code",
   "execution_count": null,
   "metadata": {},
   "outputs": [],
   "source": []
  },
  {
   "cell_type": "code",
   "execution_count": null,
   "metadata": {},
   "outputs": [],
   "source": []
  },
  {
   "cell_type": "code",
   "execution_count": null,
   "metadata": {},
   "outputs": [],
   "source": []
  },
  {
   "cell_type": "code",
   "execution_count": null,
   "metadata": {},
   "outputs": [],
   "source": []
  }
 ],
 "metadata": {
  "kernelspec": {
   "display_name": "Python 3",
   "language": "python",
   "name": "python3"
  },
  "language_info": {
   "codemirror_mode": {
    "name": "ipython",
    "version": 3
   },
   "file_extension": ".py",
   "mimetype": "text/x-python",
   "name": "python",
   "nbconvert_exporter": "python",
   "pygments_lexer": "ipython3",
   "version": "3.7.0"
  }
 },
 "nbformat": 4,
 "nbformat_minor": 4
}
